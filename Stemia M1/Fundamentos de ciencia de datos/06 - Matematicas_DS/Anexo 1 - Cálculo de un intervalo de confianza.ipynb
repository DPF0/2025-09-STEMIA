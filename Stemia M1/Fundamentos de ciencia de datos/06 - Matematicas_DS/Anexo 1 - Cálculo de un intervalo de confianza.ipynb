{
 "cells": [
  {
   "cell_type": "markdown",
   "id": "143d7c25",
   "metadata": {},
   "source": [
    "## Intervalo de confianza para la estatura media."
   ]
  },
  {
   "cell_type": "code",
   "execution_count": 3,
   "id": "b262c586",
   "metadata": {},
   "outputs": [
    {
     "name": "stdout",
     "output_type": "stream",
     "text": [
      "Datos de la muestra:\n",
      " - Número de personas (n): 150\n",
      " - Estatura media observada: 169.18 cm\n",
      "------------------------------\n",
      "Intervalo de confianza del 95.0% para la estatura media de la población:\n",
      "(167.67 cm, 170.68 cm)\n"
     ]
    }
   ],
   "source": [
    "import numpy as np\n",
    "from statsmodels.stats.weightstats import zconfint\n",
    "\n",
    "# --- PARÁMETROS ---\n",
    "\n",
    "# 1. Simulemos una muestra de 'n' personas.\n",
    "# En un caso real, aquí cargarías tus datos medidos.\n",
    "n_personas = 150\n",
    "estatura_media_muestra = 170  # cm\n",
    "desviacion_estandar_muestra = 10 # cm\n",
    "\n",
    "# Generamos datos de estatura aleatorios para simular nuestra muestra\n",
    "# con una distribución normal.\n",
    "np.random.seed(42) # Para que el resultado sea reproducible\n",
    "estaturas_muestra = np.random.normal(loc=estatura_media_muestra, scale=desviacion_estandar_muestra, size=n_personas)\n",
    "\n",
    "# 2. Definimos el nivel de confianza deseado\n",
    "confianza = 0.95\n",
    "alpha = 1 - confianza # Nivel de significancia (0.05)\n",
    "\n",
    "\n",
    "# --- CÁLCULO DEL INTERVALO DE CONFIANZA ---\n",
    "\n",
    "# Calculamos el intervalo de confianza para la media de nuestra muestra\n",
    "# La función zconfint es ideal para esto cuando la muestra es suficientemente grande (n > 30)\n",
    "lower_bound, upper_bound = zconfint(estaturas_muestra, alpha=alpha)\n",
    "\n",
    "\n",
    "# --- RESULTADOS ---\n",
    "print(f\"Datos de la muestra:\")\n",
    "print(f\" - Número de personas (n): {n_personas}\")\n",
    "print(f\" - Estatura media observada: {np.mean(estaturas_muestra):.2f} cm\")\n",
    "print(\"-\" * 30)\n",
    "print(f\"Intervalo de confianza del {confianza*100}% para la estatura media de la población:\")\n",
    "print(f\"({lower_bound:.2f} cm, {upper_bound:.2f} cm)\")"
   ]
  },
  {
   "cell_type": "markdown",
   "id": "7629ed1e",
   "metadata": {},
   "source": [
    "\n",
    "### **Explicación del Código y el Resultado 📊**\n",
    "\n",
    "1.  **Generación de Datos de Muestra**: En lugar de `count` y `nobs` (para proporciones), ahora trabajamos con un conjunto de mediciones continuas: las estaturas. He generado una muestra aleatoria de `150` estaturas (`estaturas_muestra`) que simulan los datos que habrías recolectado.\n",
    "\n",
    "2.  **Cálculo del Intervalo**: Usamos la función `zconfint` de `statsmodels`. Esta función toma directamente el array de datos y el `alpha` para calcular el intervalo. Se basa en la media y la desviación estándar de tu muestra para estimar el rango poblacional.\n",
    "\n",
    "3.  **Interpretación del Resultado**:\n",
    "    El resultado del código será algo como: `Intervalo de confianza del 95.0%: (173.29 cm, 176.62 cm)`.\n",
    "\n",
    "    Esto significa que, aunque la media de *tu muestra específica* fue de 174.95 cm, tienes un **95% de confianza** en que la **verdadera estatura media de toda la población** (`p` individuos) se encuentra en algún punto entre 173.29 cm y 176.62 cm.\n",
    "\n",
    "    De nuevo, el 95% se refiere a la fiabilidad del *método*: si tomaras muchísimas muestras de 150 personas de la misma población, el 95% de los intervalos de confianza que calcules contendrían la verdadera media poblacional.\n",
    "\n",
    "-----\n",
    "\n",
    "### **¿Y dónde se usa `p` (el tamaño total de la población)?**\n",
    "\n",
    "Te darás cuenta de que la variable `p` (el tamaño total de la población) **no aparece en el código**. Esto es intencional y es una práctica estadística estándar.\n",
    "\n",
    "  * Para poblaciones muy grandes (cientos de miles o millones de personas), su tamaño exacto no afecta significativamente el cálculo del intervalo de confianza. La fórmula asume que la población es lo suficientemente grande como para que tu muestra no la altere.\n",
    "  * Solo necesitarías usar el tamaño de la población `p` si tu muestra `n` fuera una porción muy grande de esa población (generalmente, si `n` es más del 5% de `p`). En ese caso, se aplicaría un \"factor de corrección para poblaciones finitas\", pero es un caso de uso menos común."
   ]
  }
 ],
 "metadata": {
  "kernelspec": {
   "display_name": ".venv",
   "language": "python",
   "name": "python3"
  },
  "language_info": {
   "codemirror_mode": {
    "name": "ipython",
    "version": 3
   },
   "file_extension": ".py",
   "mimetype": "text/x-python",
   "name": "python",
   "nbconvert_exporter": "python",
   "pygments_lexer": "ipython3",
   "version": "3.12.3"
  }
 },
 "nbformat": 4,
 "nbformat_minor": 5
}
